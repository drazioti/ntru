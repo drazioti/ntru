{
 "cells": [
  {
   "cell_type": "code",
   "execution_count": 145,
   "metadata": {},
   "outputs": [],
   "source": [
    "def upper_right(N,q,y):\n",
    "    from scipy.linalg import circulant\n",
    "    def alpha(N,q,y):\n",
    "        import math\n",
    "        L = []\n",
    "        k = int((N-1)/2)\n",
    "        #print(k)\n",
    "        for j in range(k):\n",
    "            L.append(j-k)\n",
    "        for j in range(k,N-2+1):\n",
    "            L.append(j+1-k)\n",
    "        s = math.floor(N*q**(1/y)) + 1\n",
    "        L.append(s)\n",
    "        return L\n",
    "    L = alpha(N,q,y)\n",
    "    return circulant(L).T\n",
    "\n",
    "def upper_left(N):\n",
    "    from scipy.sparse import identity\n",
    "    return identity(N).toarray().astype(int)\n",
    "\n",
    "\n",
    "def bottom_left(N):\n",
    "    import numpy as np\n",
    "    return np.zeros((N,N)).astype(int)\n",
    "\n",
    "def bottom_right(N,q):\n",
    "    from scipy.sparse import identity\n",
    "    return q*identity(N).toarray().astype(int)\n",
    "\n",
    "def ntru_matrix(N,q,y):\n",
    "    import numpy as np\n",
    "    return np.block([\n",
    "    [upper_left(N), upper_right(N,q,y)],\n",
    "\n",
    "    [bottom_left(N), bottom_right(N,q)]])\n",
    "\n",
    "def mat2fp(A):\n",
    "    from fpylll import IntegerMatrix\n",
    "    L = IntegerMatrix(A.shape[0],A.shape[1])\n",
    "    for i in range(A.shape[0]):\n",
    "        for j in range(A.shape[1]):\n",
    "            L[i,j] = int(A[i,j])\n",
    "    return L\n",
    "\n",
    "# converts from type fpylll.integetMatrix to numpy.array\n",
    "def fp2mat(A):\n",
    "    L = np.zeros(shape=(A.nrows, A.ncols))\n",
    "    for i in range(A.nrows):\n",
    "        for j in range(A.ncols):\n",
    "            L[i, j] = int(A[i, j])\n",
    "            L = np.array(L).astype(int)\n",
    "    return L\n",
    "\n",
    "\n",
    "def lllreduce(A):\n",
    "    from fpylll.fplll.lll import LLLReduction,LLL\n",
    "    A_fp = mat2fp(A)\n",
    "    print(A_fp.nrows,\"X\",A_fp.ncols)\n",
    "    LLL.reduction(A_fp, delta =0.99 )\n",
    "    print(\"Is reduced?\",LLL.is_reduced(A_fp))\n",
    "    \n",
    "    return A_fp"
   ]
  },
  {
   "cell_type": "code",
   "execution_count": 157,
   "metadata": {},
   "outputs": [],
   "source": [
    "N = 677;\n",
    "q=2**11\n",
    "y=2.5\n",
    "A=ntru_matrix(N,q,y)"
   ]
  },
  {
   "cell_type": "code",
   "execution_count": null,
   "metadata": {},
   "outputs": [],
   "source": [
    "A_fp = lllreduce(A)"
   ]
  },
  {
   "cell_type": "code",
   "execution_count": null,
   "metadata": {},
   "outputs": [],
   "source": [
    "B=A_fp.to_matrix(A)"
   ]
  },
  {
   "cell_type": "code",
   "execution_count": null,
   "metadata": {},
   "outputs": [],
   "source": [
    "file_name = \"reduced_matrix\" + \"N\" + str(N) + \"q\" + str(q) + \"y\" + str(y) + \".txt\""
   ]
  },
  {
   "cell_type": "code",
   "execution_count": null,
   "metadata": {},
   "outputs": [],
   "source": [
    "import numpy as np\n",
    "np.savetxt(file_name, B, fmt='[' + '%i, '*(2*N) + '],',delimiter=\",\")"
   ]
  },
  {
   "cell_type": "code",
   "execution_count": null,
   "metadata": {},
   "outputs": [],
   "source": []
  }
 ],
 "metadata": {
  "kernelspec": {
   "display_name": "fpylll-env-py3",
   "language": "python",
   "name": "fpylll-env-py3"
  },
  "language_info": {
   "codemirror_mode": {
    "name": "ipython",
    "version": 3
   },
   "file_extension": ".py",
   "mimetype": "text/x-python",
   "name": "python",
   "nbconvert_exporter": "python",
   "pygments_lexer": "ipython3",
   "version": "3.8.10"
  }
 },
 "nbformat": 4,
 "nbformat_minor": 4
}
